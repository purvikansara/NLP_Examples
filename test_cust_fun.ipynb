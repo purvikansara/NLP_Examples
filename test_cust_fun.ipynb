{
 "cells": [
  {
   "cell_type": "code",
   "execution_count": 2,
   "id": "cb7e687e-56e3-46f0-b8cf-7e8a4e1b69eb",
   "metadata": {},
   "outputs": [],
   "source": [
    "%load_ext autoreload \n",
    "%autoreload 2\n",
    "\n",
    "import custom_fun as fn\n",
    "\n"
   ]
  },
  {
   "cell_type": "code",
   "execution_count": 3,
   "id": "7804c4fe-7401-4dca-810e-24d6c2891b22",
   "metadata": {},
   "outputs": [
    {
     "name": "stdout",
     "output_type": "stream",
     "text": [
      "Hello,purvi\n"
     ]
    }
   ],
   "source": [
    "fn.demo_fun('purvi')"
   ]
  },
  {
   "cell_type": "code",
   "execution_count": 4,
   "id": "df747f49-c2b2-49d0-aa2d-7ec9f7ed601d",
   "metadata": {},
   "outputs": [
    {
     "name": "stdout",
     "output_type": "stream",
     "text": [
      "sum =  8\n"
     ]
    }
   ],
   "source": [
    "fn.test_add(3,5)"
   ]
  },
  {
   "cell_type": "code",
   "execution_count": null,
   "id": "7ac20226-b140-4d78-b52d-c0ad335e9530",
   "metadata": {},
   "outputs": [],
   "source": [
    "# Find the email address\n",
    "# \\b[A-Za-z0-9._%+-]+@[A-Za-z0-9.-]+\\.[A-Z|a-z]{2,}\\b\n",
    ".str.extract("
   ]
  },
  {
   "cell_type": "code",
   "execution_count": 5,
   "id": "38740200-8ee0-4ee9-9b93-c655cedd6574",
   "metadata": {},
   "outputs": [
    {
     "name": "stdout",
     "output_type": "stream",
     "text": [
      "['john.doe@example.com', 'support@company.com']\n"
     ]
    }
   ],
   "source": [
    "import re\n",
    "\n",
    "text = \"Contact us at john.doe@example.com or support@company.com for assistance.\"\n",
    "\n",
    "pattern = r'\\b[A-Za-z0-9._%+-]+@[A-Za-z0-9.-]+\\.[A-Z|a-z]{2,}\\b'\n",
    "matches = re.findall(pattern, text)\n",
    "\n",
    "print(matches)\n"
   ]
  },
  {
   "cell_type": "code",
   "execution_count": 6,
   "id": "e5a958a9-cfd0-4ce4-be90-ca10d787ddb3",
   "metadata": {},
   "outputs": [
    {
     "ename": "NameError",
     "evalue": "name 'nlp' is not defined",
     "output_type": "error",
     "traceback": [
      "\u001b[0;31m---------------------------------------------------------------------------\u001b[0m",
      "\u001b[0;31mNameError\u001b[0m                                 Traceback (most recent call last)",
      "Cell \u001b[0;32mIn[6], line 4\u001b[0m\n\u001b[1;32m      1\u001b[0m \u001b[38;5;28;01mfrom\u001b[39;00m \u001b[38;5;21;01mspacy\u001b[39;00m\u001b[38;5;21;01m.\u001b[39;00m\u001b[38;5;21;01mmatcher\u001b[39;00m \u001b[38;5;28;01mimport\u001b[39;00m Matcher\n\u001b[1;32m      3\u001b[0m \u001b[38;5;66;03m# Rule-based matching\u001b[39;00m\n\u001b[0;32m----> 4\u001b[0m matcher \u001b[38;5;241m=\u001b[39m Matcher(\u001b[43mnlp\u001b[49m\u001b[38;5;241m.\u001b[39mvocab)\n\u001b[1;32m      5\u001b[0m pattern \u001b[38;5;241m=\u001b[39m [{\u001b[38;5;124m\"\u001b[39m\u001b[38;5;124mLOWER\u001b[39m\u001b[38;5;124m\"\u001b[39m: \u001b[38;5;124m\"\u001b[39m\u001b[38;5;124mspacy\u001b[39m\u001b[38;5;124m\"\u001b[39m}]\n\u001b[1;32m      6\u001b[0m matcher\u001b[38;5;241m.\u001b[39madd(\u001b[38;5;124m\"\u001b[39m\u001b[38;5;124mSpaCyPattern\u001b[39m\u001b[38;5;124m\"\u001b[39m, [pattern])\n",
      "\u001b[0;31mNameError\u001b[0m: name 'nlp' is not defined"
     ]
    }
   ],
   "source": [
    "from spacy.matcher import Matcher\n",
    "\n",
    "# Rule-based matching\n",
    "matcher = Matcher(nlp.vocab)\n",
    "pattern = [{\"LOWER\": \"spacy\"}]\n",
    "matcher.add(\"SpaCyPattern\", [pattern])\n",
    "\n",
    "# Apply the matcher to a document\n",
    "text = \"SpaCy is a fantastic NLP library. spaCy makes NLP easy.\"\n",
    "doc = nlp(text)\n",
    "matches = matcher(doc)\n",
    "\n",
    "# Print the matched spans\n",
    "for match_id, start, end in matches:\n",
    "    matched_span = doc[start:end]\n",
    "    print(f\"Matched span: {matched_span.text}\")\n"
   ]
  },
  {
   "cell_type": "code",
   "execution_count": null,
   "id": "9107016e-8374-47fe-ba8c-c4584bd5f517",
   "metadata": {},
   "outputs": [],
   "source": []
  }
 ],
 "metadata": {
  "kernelspec": {
   "display_name": "Python 3 (ipykernel)",
   "language": "python",
   "name": "python3"
  },
  "language_info": {
   "codemirror_mode": {
    "name": "ipython",
    "version": 3
   },
   "file_extension": ".py",
   "mimetype": "text/x-python",
   "name": "python",
   "nbconvert_exporter": "python",
   "pygments_lexer": "ipython3",
   "version": "3.10.10"
  }
 },
 "nbformat": 4,
 "nbformat_minor": 5
}
