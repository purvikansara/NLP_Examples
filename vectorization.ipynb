{
 "cells": [
  {
   "cell_type": "code",
   "execution_count": 1,
   "id": "7cccf9d6-1cbb-4034-aace-a45109d0df00",
   "metadata": {},
   "outputs": [
    {
     "name": "stdout",
     "output_type": "stream",
     "text": [
      "[[1 1 1 0 1 1]\n",
      " [2 0 1 1 1 1]]\n"
     ]
    }
   ],
   "source": [
    "from sklearn.feature_extraction.text import CountVectorizer\n",
    "\n",
    "corpus = [\"This is the first document.\", \"This document is the second document.\"]\n",
    "vectorizer = CountVectorizer()\n",
    "X = vectorizer.fit_transform(corpus)\n",
    "print(X.toarray())\n"
   ]
  },
  {
   "cell_type": "code",
   "execution_count": 2,
   "id": "30c520f8-cdbc-4383-b089-cef62779a452",
   "metadata": {},
   "outputs": [
    {
     "name": "stdout",
     "output_type": "stream",
     "text": [
      "[[0.4090901  0.57496187 0.4090901  0.         0.4090901  0.4090901 ]\n",
      " [0.66758217 0.         0.33379109 0.46913173 0.33379109 0.33379109]]\n"
     ]
    }
   ],
   "source": [
    "from sklearn.feature_extraction.text import TfidfVectorizer\n",
    "\n",
    "corpus = [\"This is the first document.\", \"This document is the second document.\"]\n",
    "vectorizer = TfidfVectorizer()\n",
    "X = vectorizer.fit_transform(corpus)\n",
    "print(X.toarray())\n"
   ]
  },
  {
   "cell_type": "code",
   "execution_count": 3,
   "id": "37e262c4-406a-4e13-a768-c1cbc0914da9",
   "metadata": {},
   "outputs": [
    {
     "name": "stdout",
     "output_type": "stream",
     "text": [
      "Vocabulary and Indices:\n",
      "document: 0\n",
      "first: 1\n",
      "is: 2\n",
      "second: 3\n",
      "the: 4\n",
      "this: 5\n",
      "\n",
      "Document-Term Matrix:\n",
      "[[1 1 1 0 1 1]\n",
      " [2 0 1 1 1 1]]\n"
     ]
    }
   ],
   "source": [
    "from sklearn.feature_extraction.text import CountVectorizer\n",
    "\n",
    "# Define a corpus of text documents\n",
    "corpus = [\"This is the first document.\", \"This document is the second document.\"]\n",
    "\n",
    "# Create a CountVectorizer instance\n",
    "vectorizer = CountVectorizer()\n",
    "\n",
    "# Apply the vectorizer to the corpus and transform the documents into a document-term matrix\n",
    "X = vectorizer.fit_transform(corpus)\n",
    "\n",
    "# Get the vocabulary (words) and their indices\n",
    "feature_names = vectorizer.get_feature_names_out()\n",
    "\n",
    "# Print the vocabulary and their corresponding indices\n",
    "print(\"Vocabulary and Indices:\")\n",
    "for index, word in enumerate(feature_names):\n",
    "    print(f\"{word}: {index}\")\n",
    "\n",
    "# Print the dense representation of the document-term matrix\n",
    "print(\"\\nDocument-Term Matrix:\")\n",
    "print(X.toarray())\n"
   ]
  },
  {
   "cell_type": "code",
   "execution_count": null,
   "id": "bc9953b5-dfc1-43c1-8226-278e0a487dc1",
   "metadata": {},
   "outputs": [],
   "source": []
  }
 ],
 "metadata": {
  "kernelspec": {
   "display_name": "Python 3 (ipykernel)",
   "language": "python",
   "name": "python3"
  },
  "language_info": {
   "codemirror_mode": {
    "name": "ipython",
    "version": 3
   },
   "file_extension": ".py",
   "mimetype": "text/x-python",
   "name": "python",
   "nbconvert_exporter": "python",
   "pygments_lexer": "ipython3",
   "version": "3.10.10"
  }
 },
 "nbformat": 4,
 "nbformat_minor": 5
}
